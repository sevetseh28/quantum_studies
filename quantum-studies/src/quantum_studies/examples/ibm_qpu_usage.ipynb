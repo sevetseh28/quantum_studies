{
 "cells": [
  {
   "cell_type": "markdown",
   "id": "047dfb81",
   "metadata": {},
   "source": [
    "# IBM QPU Usage Example\n",
    "\n",
    "This notebook demonstrates how to use the `IBMQuantumRunner` class to run quantum circuits on IBM quantum computers."
   ]
  },
  {
   "cell_type": "markdown",
   "id": "87199811",
   "metadata": {},
   "source": [
    "## Setup and Import\n",
    "\n",
    "First, let's import the necessary modules and create a simple quantum circuit."
   ]
  },
  {
   "cell_type": "code",
   "execution_count": null,
   "id": "405fa03d",
   "metadata": {},
   "outputs": [],
   "source": [
    "from qiskit import QuantumCircuit, QuantumRegister, ClassicalRegister\n",
    "from quantum_studies.ibm_qpus import IBMQuantumRunner, run_on_ibm_qpu, list_available_backends\n",
    "import os\n",
    "\n",
    "# Replace with your actual IBM Quantum API key\n",
    "# You can also set it as an environment variable: export IBM_QUANTUM_TOKEN=your_token\n",
    "API_KEY = \"your_api_key_here\"  # or use os.getenv('IBM_QUANTUM_TOKEN')"
   ]
  },
  {
   "cell_type": "markdown",
   "id": "e0fec041",
   "metadata": {},
   "source": [
    "## Method 1: Using the IBMQuantumRunner Class (Recommended)\n",
    "\n",
    "This method gives you full control over the quantum backend operations."
   ]
  },
  {
   "cell_type": "code",
   "execution_count": null,
   "id": "71eccaa4",
   "metadata": {},
   "outputs": [],
   "source": [
    "# Initialize the IBM Quantum Runner\n",
    "runner = IBMQuantumRunner(api_key=API_KEY, channel=\"ibm_quantum_platform\")\n",
    "\n",
    "# List available backends\n",
    "backends = runner.list_backends(min_qubits=2)"
   ]
  },
  {
   "cell_type": "code",
   "execution_count": null,
   "id": "8b7515b8",
   "metadata": {},
   "outputs": [],
   "source": [
    "# Create a Bell state circuit\n",
    "qc = QuantumCircuit(2, 2)\n",
    "qc.h(0)          # Apply Hadamard gate to qubit 0\n",
    "qc.cx(0, 1)      # Apply CNOT gate from qubit 0 to qubit 1\n",
    "qc.measure_all() # Measure all qubits\n",
    "\n",
    "print(\"Bell State Circuit:\")\n",
    "print(qc.draw())"
   ]
  },
  {
   "cell_type": "code",
   "execution_count": null,
   "id": "5dcbbe80",
   "metadata": {},
   "outputs": [],
   "source": [
    "# Select a backend (choose one from the list above)\n",
    "backend_name = 'ibm_brisbane'  # Replace with an available backend\n",
    "runner.select_backend(backend_name)\n",
    "\n",
    "# Get backend information\n",
    "backend_info = runner.get_backend_info()\n",
    "print(\"Backend Information:\")\n",
    "for key, value in backend_info.items():\n",
    "    print(f\"{key}: {value}\")"
   ]
  },
  {
   "cell_type": "code",
   "execution_count": null,
   "id": "767fd2df",
   "metadata": {},
   "outputs": [],
   "source": [
    "# Run the circuit on the quantum computer\n",
    "counts, result = runner.run_circuit(\n",
    "    circuit=qc,\n",
    "    shots=1024,\n",
    "    optimization_level=1,\n",
    "    plot_results=True,\n",
    "    title=\"Bell State on IBM Quantum Computer\"\n",
    ")\n",
    "\n",
    "# Calculate Bell state fidelity\n",
    "fidelity = runner.calculate_bell_state_fidelity(counts)"
   ]
  },
  {
   "cell_type": "markdown",
   "id": "aef35867",
   "metadata": {},
   "source": [
    "## Method 2: Using Convenience Functions\n",
    "\n",
    "For quick one-off executions, you can use the convenience functions."
   ]
  },
  {
   "cell_type": "code",
   "execution_count": null,
   "id": "abb6732b",
   "metadata": {},
   "outputs": [],
   "source": [
    "# List available backends quickly\n",
    "available_backends = list_available_backends(API_KEY, min_qubits=2)"
   ]
  },
  {
   "cell_type": "code",
   "execution_count": null,
   "id": "ff53a699",
   "metadata": {},
   "outputs": [],
   "source": [
    "# Run a circuit quickly\n",
    "counts, result = run_on_ibm_qpu(\n",
    "    circuit=qc,\n",
    "    api_key=API_KEY,\n",
    "    backend_name='ibm_brisbane',  # Replace with available backend\n",
    "    shots=512\n",
    ")\n",
    "\n",
    "print(\"Quick execution results:\", counts)"
   ]
  },
  {
   "cell_type": "markdown",
   "id": "dbe2deee",
   "metadata": {},
   "source": [
    "## Example: Running Multiple Circuits\n",
    "\n",
    "Here's how you can run multiple different circuits using the same runner instance."
   ]
  },
  {
   "cell_type": "code",
   "execution_count": null,
   "id": "1b91f27e",
   "metadata": {},
   "outputs": [],
   "source": [
    "# Create different quantum circuits\n",
    "\n",
    "# 1. Simple superposition\n",
    "superposition_circuit = QuantumCircuit(1, 1)\n",
    "superposition_circuit.h(0)\n",
    "superposition_circuit.measure(0, 0)\n",
    "\n",
    "# 2. GHZ state (3-qubit entanglement)\n",
    "ghz_circuit = QuantumCircuit(3, 3)\n",
    "ghz_circuit.h(0)\n",
    "ghz_circuit.cx(0, 1)\n",
    "ghz_circuit.cx(1, 2)\n",
    "ghz_circuit.measure_all()\n",
    "\n",
    "print(\"Superposition Circuit:\")\n",
    "print(superposition_circuit.draw())\n",
    "print(\"\\nGHZ Circuit:\")\n",
    "print(ghz_circuit.draw())"
   ]
  },
  {
   "cell_type": "code",
   "execution_count": null,
   "id": "ca7b96ac",
   "metadata": {},
   "outputs": [],
   "source": [
    "# Run superposition circuit\n",
    "super_counts, super_result = runner.run_circuit(\n",
    "    superposition_circuit,\n",
    "    shots=1024,\n",
    "    title=\"Superposition State\"\n",
    ")"
   ]
  },
  {
   "cell_type": "code",
   "execution_count": null,
   "id": "2643c3a8",
   "metadata": {},
   "outputs": [],
   "source": [
    "# Run GHZ circuit (if backend has enough qubits)\n",
    "try:\n",
    "    ghz_counts, ghz_result = runner.run_circuit(\n",
    "        ghz_circuit,\n",
    "        shots=1024,\n",
    "        title=\"GHZ State\"\n",
    "    )\n",
    "except Exception as e:\n",
    "    print(f\"Could not run GHZ circuit: {e}\")\n",
    "    print(\"Try selecting a backend with at least 3 qubits\")"
   ]
  },
  {
   "cell_type": "markdown",
   "id": "1b898857",
   "metadata": {},
   "source": [
    "## Usage Tips\n",
    "\n",
    "1. **API Key Management**: Store your API key as an environment variable for security:\n",
    "   ```bash\n",
    "   export IBM_QUANTUM_TOKEN=your_actual_token\n",
    "   ```\n",
    "   Then use: `API_KEY = os.getenv('IBM_QUANTUM_TOKEN')`\n",
    "\n",
    "2. **Backend Selection**: Check the queue length and choose backends with shorter queues for faster execution.\n",
    "\n",
    "3. **Circuit Optimization**: Use higher optimization levels (2-3) for better performance on real hardware.\n",
    "\n",
    "4. **Error Handling**: The module includes comprehensive error handling and troubleshooting information.\n",
    "\n",
    "5. **Reusability**: Create one runner instance and reuse it for multiple circuits to avoid repeated authentication."
   ]
  }
 ],
 "metadata": {
  "language_info": {
   "name": "python"
  }
 },
 "nbformat": 4,
 "nbformat_minor": 5
}
