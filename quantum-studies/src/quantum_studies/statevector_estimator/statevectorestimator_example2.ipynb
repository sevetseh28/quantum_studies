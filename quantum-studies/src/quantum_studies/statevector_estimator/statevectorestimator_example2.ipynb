{
 "cells": [
  {
   "cell_type": "code",
   "execution_count": null,
   "id": "6e1c8c45",
   "metadata": {},
   "outputs": [
    {
     "data": {
      "image/png": "[encoded data removed]",
      "text/plain": [
       "<Figure size 621.739x200.667 with 1 Axes>"
      ]
     },
     "metadata": {},
     "output_type": "display_data"
    }
   ],
   "source": [
    "from qiskit.circuit import Parameter, QuantumCircuit\n",
    "from qiskit.primitives import StatevectorEstimator\n",
    "from qiskit.quantum_info import Pauli, SparsePauliOp\n",
    "\n",
    "import matplotlib.pyplot as plt\n",
    "import numpy as np\n",
    "from IPython.display import display\n",
    "\n",
    "# Define a circuit with two parameters.\n",
    "circuit = QuantumCircuit(2)\n",
    "circuit.h(0)\n",
    "circuit.cx(0, 1)\n",
    "circuit.ry(Parameter(\"a\"), 0)\n",
    "circuit.rz(Parameter(\"b\"), 0)\n",
    "circuit.cx(0, 1)\n",
    "circuit.h(0)\n",
    "\n",
    "# Explicitly display the Matplotlib figure for the circuit\n",
    "display(circuit.draw(output=\"mpl\"))\n",
    "\n",
    "\n",
    "# Define a sweep over parameter values, where the second axis is over\n",
    "# the two parameters in the circuit.]\n",
    "params = np.vstack([\n",
    "    np.linspace(-np.pi, np.pi, 100), # First parameter sweep: -π to π in 100 steps\n",
    "    np.linspace(-4 * np.pi, 4 * np.pi, 100) # Second parameter sweep: -4π to 4π in 100 steps\n",
    "]).T\n",
    "# Shape: (100, 2) # 100 parameter sets, each with 2 parameters\n",
    "# This creates:\n",
    "# [[param1[0], param2[0]],\n",
    "#  [param1[1], param2[1]],\n",
    "#  [param1[2], param2[2]],\n",
    "#  ...\n",
    "#  [param1[99], param2[99]]]\n",
    "# First few rows:\n",
    "# [[-3.14159265, -12.56637061],  # Parameter set 0\n",
    "#  [-3.07840151, -12.31327447],  # Parameter set 1  \n",
    "#  [-3.01521038, -12.06017832],  # Parameter set 2\n",
    "#  ...\n",
    "#  [ 3.01521038,  12.06017832],  # Parameter set 97\n",
    "#  [ 3.07840151,  12.31327447],  # Parameter set 98\n",
    "#  [ 3.14159265,  12.56637061]]  # Parameter set 99\n",
    "\n",
    "\n",
    "# Define three observables. Many formats are supported here including\n",
    "# classes such as qiskit.quantum_info.SparsePauliOp. The inner length-1\n",
    "# lists cause this array of observables to have shape (3, 1), rather\n",
    "# than shape (3,) if they were omitted.\n",
    "observables = [\n",
    "    [SparsePauliOp([\"XX\", \"IY\"], [0.5, 0.5])],\n",
    "    [Pauli(\"XX\")],\n",
    "    [Pauli(\"IY\")]\n",
    "]\n",
    "\n",
    "# Instantiate a new statevector simulation based estimator object.\n",
    "estimator = StatevectorEstimator()\n",
    "\n",
    "# Estimate the expectation value for all 300 combinations of\n",
    "# observables and parameter values, where the pub result will have\n",
    "# shape (3, 100). This shape is due to our array of parameter\n",
    "# bindings having shape (100,), combined with our array of observables\n",
    "# having shape (3, 1)\n",
    "pub = (circuit, observables, params)\n",
    "job = estimator.run([pub])\n",
    "\n",
    "# Extract the result for the 0th pub (this example only has one pub).\n",
    "result = job.result()[0]\n",
    "\n",
    "# Error-bar information is also available, but the error is 0\n",
    "# for this StatevectorEstimator.\n",
    "result.data.stds\n",
    "\n",
    "# Pull out the array-based expectation value estimate data from the\n",
    "# result and plot a trace for each observable.\n",
    "for idx, pauli in enumerate(observables):\n",
    "    plt.plot(result.data.evs[idx], label=pauli)\n",
    "plt.legend()\n",
    "plt.show()"
   ]
  }
 ],
 "metadata": {
  "kernelspec": {
   "display_name": "quantum-studies-py3.12 (3.12.10)",
   "language": "python",
   "name": "python3"
  },
  "language_info": {
   "codemirror_mode": {
    "name": "ipython",
    "version": 3
   },
   "file_extension": ".py",
   "mimetype": "text/x-python",
   "name": "python",
   "nbconvert_exporter": "python",
   "pygments_lexer": "ipython3",
   "version": "3.12.10"
  }
 },
 "nbformat": 4,
 "nbformat_minor": 5
}
