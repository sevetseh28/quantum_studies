{
 "cells": [
  {
   "cell_type": "code",
   "execution_count": null,
   "id": "397cebc2",
   "metadata": {},
   "outputs": [
    {
     "name": "stderr",
     "output_type": "stream",
     "text": [
      "/home/vscode/.cache/pypoetry/virtualenvs/quantum-studies-WnsHUv4K-py3.8/lib/python3.8/site-packages/qiskit/circuit/tools/pi_check.py:55: SymPyDeprecationWarning: \n",
      "\n",
      "The expr_free_symbols property is deprecated. Use free_symbols to get\n",
      "the free symbols of an expression.\n",
      "\n",
      "See https://docs.sympy.org/latest/explanation/active-deprecations.html#deprecated-expr-free-symbols\n",
      "for details.\n",
      "\n",
      "This has been deprecated since SymPy version 1.9. It\n",
      "will be removed in a future version of SymPy.\n",
      "\n",
      "  syms = expr.expr_free_symbols\n",
      "/home/vscode/.cache/pypoetry/virtualenvs/quantum-studies-WnsHUv4K-py3.8/lib/python3.8/site-packages/matplotlib/figure.py:2251: FutureWarning: The input object of type 'HGate' is an array-like implementing one of the corresponding protocols (`__array__`, `__array_interface__` or `__array_struct__`); but not a sequence (or 0-D). In the future, this object will be coerced as if it was first converted using `np.array(obj)`. To retain the old behaviour, you have to either modify the type 'HGate', or assign to an empty array created with `np.empty(correct_shape, dtype=object)`.\n",
      "  if not np.isfinite(figsize).all() or (np.array(figsize) < 0).any():\n"
     ]
    },
    {
     "ename": "ValueError",
     "evalue": "setting an array element with a sequence. The requested array has an inhomogeneous shape after 2 dimensions. The detected shape was (4, 3) + inhomogeneous part.",
     "output_type": "error",
     "traceback": [
      "\u001b[0;31m---------------------------------------------------------------------------\u001b[0m",
      "\u001b[0;31mValueError\u001b[0m                                Traceback (most recent call last)",
      "Cell \u001b[0;32mIn[10], line 19\u001b[0m\n\u001b[1;32m     15\u001b[0m transpiled_circuit \u001b[38;5;241m=\u001b[39m transpile(bell_circuit, backend\u001b[38;5;241m=\u001b[39msantiago_backend, optimization_level\u001b[38;5;241m=\u001b[39m\u001b[38;5;241m3\u001b[39m)\n\u001b[1;32m     17\u001b[0m transpiled_circuit\u001b[38;5;241m.\u001b[39mdraw(\u001b[38;5;124m\"\u001b[39m\u001b[38;5;124mmpl\u001b[39m\u001b[38;5;124m\"\u001b[39m)\n\u001b[0;32m---> 19\u001b[0m \u001b[43mplot_error_map\u001b[49m\u001b[43m(\u001b[49m\u001b[43msantiago_backend\u001b[49m\u001b[43m,\u001b[49m\u001b[43m \u001b[49m\u001b[43mbell_circuit\u001b[49m\u001b[43m)\u001b[49m\n",
      "File \u001b[0;32m~/.cache/pypoetry/virtualenvs/quantum-studies-WnsHUv4K-py3.8/lib/python3.8/site-packages/qiskit/visualization/gate_map.py:699\u001b[0m, in \u001b[0;36mplot_error_map\u001b[0;34m(backend, figsize, show_title)\u001b[0m\n\u001b[1;32m    696\u001b[0m avg_read_err \u001b[38;5;241m=\u001b[39m np\u001b[38;5;241m.\u001b[39mmean(read_err)\n\u001b[1;32m    697\u001b[0m max_read_err \u001b[38;5;241m=\u001b[39m np\u001b[38;5;241m.\u001b[39mmax(read_err)\n\u001b[0;32m--> 699\u001b[0m fig \u001b[38;5;241m=\u001b[39m \u001b[43mplt\u001b[49m\u001b[38;5;241;43m.\u001b[39;49m\u001b[43mfigure\u001b[49m\u001b[43m(\u001b[49m\u001b[43mfigsize\u001b[49m\u001b[38;5;241;43m=\u001b[39;49m\u001b[43mfigsize\u001b[49m\u001b[43m)\u001b[49m\n\u001b[1;32m    700\u001b[0m gridspec\u001b[38;5;241m.\u001b[39mGridSpec(nrows\u001b[38;5;241m=\u001b[39m\u001b[38;5;241m2\u001b[39m, ncols\u001b[38;5;241m=\u001b[39m\u001b[38;5;241m3\u001b[39m)\n\u001b[1;32m    702\u001b[0m grid_spec \u001b[38;5;241m=\u001b[39m gridspec\u001b[38;5;241m.\u001b[39mGridSpec(\n\u001b[1;32m    703\u001b[0m     \u001b[38;5;241m12\u001b[39m, \u001b[38;5;241m12\u001b[39m, height_ratios\u001b[38;5;241m=\u001b[39m[\u001b[38;5;241m1\u001b[39m] \u001b[38;5;241m*\u001b[39m \u001b[38;5;241m11\u001b[39m \u001b[38;5;241m+\u001b[39m [\u001b[38;5;241m0.5\u001b[39m], width_ratios\u001b[38;5;241m=\u001b[39m[\u001b[38;5;241m2\u001b[39m, \u001b[38;5;241m1\u001b[39m, \u001b[38;5;241m1\u001b[39m, \u001b[38;5;241m1\u001b[39m, \u001b[38;5;241m1\u001b[39m, \u001b[38;5;241m1\u001b[39m, \u001b[38;5;241m1\u001b[39m, \u001b[38;5;241m1\u001b[39m, \u001b[38;5;241m1\u001b[39m, \u001b[38;5;241m1\u001b[39m, \u001b[38;5;241m1\u001b[39m, \u001b[38;5;241m2\u001b[39m]\n\u001b[1;32m    704\u001b[0m )\n",
      "File \u001b[0;32m~/.cache/pypoetry/virtualenvs/quantum-studies-WnsHUv4K-py3.8/lib/python3.8/site-packages/matplotlib/pyplot.py:797\u001b[0m, in \u001b[0;36mfigure\u001b[0;34m(num, figsize, dpi, facecolor, edgecolor, frameon, FigureClass, clear, **kwargs)\u001b[0m\n\u001b[1;32m    788\u001b[0m \u001b[38;5;28;01mif\u001b[39;00m \u001b[38;5;28mlen\u001b[39m(allnums) \u001b[38;5;241m==\u001b[39m max_open_warning \u001b[38;5;241m>\u001b[39m\u001b[38;5;241m=\u001b[39m \u001b[38;5;241m1\u001b[39m:\n\u001b[1;32m    789\u001b[0m     _api\u001b[38;5;241m.\u001b[39mwarn_external(\n\u001b[1;32m    790\u001b[0m         \u001b[38;5;124mf\u001b[39m\u001b[38;5;124m\"\u001b[39m\u001b[38;5;124mMore than \u001b[39m\u001b[38;5;132;01m{\u001b[39;00mmax_open_warning\u001b[38;5;132;01m}\u001b[39;00m\u001b[38;5;124m figures have been opened. \u001b[39m\u001b[38;5;124m\"\u001b[39m\n\u001b[1;32m    791\u001b[0m         \u001b[38;5;124mf\u001b[39m\u001b[38;5;124m\"\u001b[39m\u001b[38;5;124mFigures created through the pyplot interface \u001b[39m\u001b[38;5;124m\"\u001b[39m\n\u001b[0;32m   (...)\u001b[0m\n\u001b[1;32m    794\u001b[0m         \u001b[38;5;124mf\u001b[39m\u001b[38;5;124m\"\u001b[39m\u001b[38;5;124mwarning, see the rcParam `figure.max_open_warning`).\u001b[39m\u001b[38;5;124m\"\u001b[39m,\n\u001b[1;32m    795\u001b[0m         \u001b[38;5;167;01mRuntimeWarning\u001b[39;00m)\n\u001b[0;32m--> 797\u001b[0m manager \u001b[38;5;241m=\u001b[39m \u001b[43mnew_figure_manager\u001b[49m\u001b[43m(\u001b[49m\n\u001b[1;32m    798\u001b[0m \u001b[43m    \u001b[49m\u001b[43mnum\u001b[49m\u001b[43m,\u001b[49m\u001b[43m \u001b[49m\u001b[43mfigsize\u001b[49m\u001b[38;5;241;43m=\u001b[39;49m\u001b[43mfigsize\u001b[49m\u001b[43m,\u001b[49m\u001b[43m \u001b[49m\u001b[43mdpi\u001b[49m\u001b[38;5;241;43m=\u001b[39;49m\u001b[43mdpi\u001b[49m\u001b[43m,\u001b[49m\n\u001b[1;32m    799\u001b[0m \u001b[43m    \u001b[49m\u001b[43mfacecolor\u001b[49m\u001b[38;5;241;43m=\u001b[39;49m\u001b[43mfacecolor\u001b[49m\u001b[43m,\u001b[49m\u001b[43m \u001b[49m\u001b[43medgecolor\u001b[49m\u001b[38;5;241;43m=\u001b[39;49m\u001b[43medgecolor\u001b[49m\u001b[43m,\u001b[49m\u001b[43m \u001b[49m\u001b[43mframeon\u001b[49m\u001b[38;5;241;43m=\u001b[39;49m\u001b[43mframeon\u001b[49m\u001b[43m,\u001b[49m\n\u001b[1;32m    800\u001b[0m \u001b[43m    \u001b[49m\u001b[43mFigureClass\u001b[49m\u001b[38;5;241;43m=\u001b[39;49m\u001b[43mFigureClass\u001b[49m\u001b[43m,\u001b[49m\u001b[43m \u001b[49m\u001b[38;5;241;43m*\u001b[39;49m\u001b[38;5;241;43m*\u001b[39;49m\u001b[43mkwargs\u001b[49m\u001b[43m)\u001b[49m\n\u001b[1;32m    801\u001b[0m fig \u001b[38;5;241m=\u001b[39m manager\u001b[38;5;241m.\u001b[39mcanvas\u001b[38;5;241m.\u001b[39mfigure\n\u001b[1;32m    802\u001b[0m \u001b[38;5;28;01mif\u001b[39;00m fig_label:\n",
      "File \u001b[0;32m~/.cache/pypoetry/virtualenvs/quantum-studies-WnsHUv4K-py3.8/lib/python3.8/site-packages/matplotlib/pyplot.py:316\u001b[0m, in \u001b[0;36mnew_figure_manager\u001b[0;34m(*args, **kwargs)\u001b[0m\n\u001b[1;32m    314\u001b[0m \u001b[38;5;250m\u001b[39m\u001b[38;5;124;03m\"\"\"Create a new figure manager instance.\"\"\"\u001b[39;00m\n\u001b[1;32m    315\u001b[0m _warn_if_gui_out_of_main_thread()\n\u001b[0;32m--> 316\u001b[0m \u001b[38;5;28;01mreturn\u001b[39;00m \u001b[43m_backend_mod\u001b[49m\u001b[38;5;241;43m.\u001b[39;49m\u001b[43mnew_figure_manager\u001b[49m\u001b[43m(\u001b[49m\u001b[38;5;241;43m*\u001b[39;49m\u001b[43margs\u001b[49m\u001b[43m,\u001b[49m\u001b[43m \u001b[49m\u001b[38;5;241;43m*\u001b[39;49m\u001b[38;5;241;43m*\u001b[39;49m\u001b[43mkwargs\u001b[49m\u001b[43m)\u001b[49m\n",
      "File \u001b[0;32m~/.cache/pypoetry/virtualenvs/quantum-studies-WnsHUv4K-py3.8/lib/python3.8/site-packages/matplotlib_inline/backend_inline.py:27\u001b[0m, in \u001b[0;36mnew_figure_manager\u001b[0;34m(num, FigureClass, *args, **kwargs)\u001b[0m\n\u001b[1;32m     21\u001b[0m \u001b[38;5;28;01mdef\u001b[39;00m\u001b[38;5;250m \u001b[39m\u001b[38;5;21mnew_figure_manager\u001b[39m(num, \u001b[38;5;241m*\u001b[39margs, FigureClass\u001b[38;5;241m=\u001b[39mFigure, \u001b[38;5;241m*\u001b[39m\u001b[38;5;241m*\u001b[39mkwargs):\n\u001b[1;32m     22\u001b[0m \u001b[38;5;250m    \u001b[39m\u001b[38;5;124;03m\"\"\"\u001b[39;00m\n\u001b[1;32m     23\u001b[0m \u001b[38;5;124;03m    Return a new figure manager for a new figure instance.\u001b[39;00m\n\u001b[1;32m     24\u001b[0m \n\u001b[1;32m     25\u001b[0m \u001b[38;5;124;03m    This function is part of the API expected by Matplotlib backends.\u001b[39;00m\n\u001b[1;32m     26\u001b[0m \u001b[38;5;124;03m    \"\"\"\u001b[39;00m\n\u001b[0;32m---> 27\u001b[0m     \u001b[38;5;28;01mreturn\u001b[39;00m new_figure_manager_given_figure(num, \u001b[43mFigureClass\u001b[49m\u001b[43m(\u001b[49m\u001b[38;5;241;43m*\u001b[39;49m\u001b[43margs\u001b[49m\u001b[43m,\u001b[49m\u001b[43m \u001b[49m\u001b[38;5;241;43m*\u001b[39;49m\u001b[38;5;241;43m*\u001b[39;49m\u001b[43mkwargs\u001b[49m\u001b[43m)\u001b[49m)\n",
      "File \u001b[0;32m~/.cache/pypoetry/virtualenvs/quantum-studies-WnsHUv4K-py3.8/lib/python3.8/site-packages/matplotlib/figure.py:2251\u001b[0m, in \u001b[0;36mFigure.__init__\u001b[0;34m(self, figsize, dpi, facecolor, edgecolor, linewidth, frameon, subplotpars, tight_layout, constrained_layout)\u001b[0m\n\u001b[1;32m   2248\u001b[0m \u001b[38;5;28;01mif\u001b[39;00m frameon \u001b[38;5;129;01mis\u001b[39;00m \u001b[38;5;28;01mNone\u001b[39;00m:\n\u001b[1;32m   2249\u001b[0m     frameon \u001b[38;5;241m=\u001b[39m mpl\u001b[38;5;241m.\u001b[39mrcParams[\u001b[38;5;124m'\u001b[39m\u001b[38;5;124mfigure.frameon\u001b[39m\u001b[38;5;124m'\u001b[39m]\n\u001b[0;32m-> 2251\u001b[0m \u001b[38;5;28;01mif\u001b[39;00m \u001b[38;5;129;01mnot\u001b[39;00m \u001b[43mnp\u001b[49m\u001b[38;5;241;43m.\u001b[39;49m\u001b[43misfinite\u001b[49m\u001b[43m(\u001b[49m\u001b[43mfigsize\u001b[49m\u001b[43m)\u001b[49m\u001b[38;5;241m.\u001b[39mall() \u001b[38;5;129;01mor\u001b[39;00m (np\u001b[38;5;241m.\u001b[39marray(figsize) \u001b[38;5;241m<\u001b[39m \u001b[38;5;241m0\u001b[39m)\u001b[38;5;241m.\u001b[39many():\n\u001b[1;32m   2252\u001b[0m     \u001b[38;5;28;01mraise\u001b[39;00m \u001b[38;5;167;01mValueError\u001b[39;00m(\u001b[38;5;124m'\u001b[39m\u001b[38;5;124mfigure size must be positive finite not \u001b[39m\u001b[38;5;124m'\u001b[39m\n\u001b[1;32m   2253\u001b[0m                      \u001b[38;5;124mf\u001b[39m\u001b[38;5;124m'\u001b[39m\u001b[38;5;132;01m{\u001b[39;00mfigsize\u001b[38;5;132;01m}\u001b[39;00m\u001b[38;5;124m'\u001b[39m)\n\u001b[1;32m   2254\u001b[0m \u001b[38;5;28mself\u001b[39m\u001b[38;5;241m.\u001b[39mbbox_inches \u001b[38;5;241m=\u001b[39m Bbox\u001b[38;5;241m.\u001b[39mfrom_bounds(\u001b[38;5;241m0\u001b[39m, \u001b[38;5;241m0\u001b[39m, \u001b[38;5;241m*\u001b[39mfigsize)\n",
      "\u001b[0;31mValueError\u001b[0m: setting an array element with a sequence. The requested array has an inhomogeneous shape after 2 dimensions. The detected shape was (4, 3) + inhomogeneous part."
     ]
    }
   ],
   "source": [
    "from qiskit.test.mock import FakeSantiago\n",
    "from qiskit import transpile, QuantumCircuit\n",
    "\n",
    "from qiskit.visualization import plot_error_map\n",
    "\n",
    "santiago_backend = FakeSantiago()\n",
    "\n",
    "# Bell state circuit\n",
    "bell_circuit = QuantumCircuit(2, 2)\n",
    "bell_circuit.h(0)  # Apply Hadamard gate to qubit 0\n",
    "bell_circuit.cx(0, 1)  # Apply CNOT gate with qubit 0 as control and qubit 1 as target\n",
    "\n",
    "bell_circuit.measure([0, 1], [0, 1])  # Measure both qubits\n",
    "\n",
    "transpiled_circuit = transpile(bell_circuit, backend=santiago_backend, optimization_level=3)\n",
    "\n",
    "transpiled_circuit.draw(\"mpl\")\n",
    "\n",
    "plot_error_map(santiago_backend)"
   ]
  }
 ],
 "metadata": {
  "kernelspec": {
   "display_name": "quantum-studies-WnsHUv4K-py3.8",
   "language": "python",
   "name": "python3"
  },
  "language_info": {
   "codemirror_mode": {
    "name": "ipython",
    "version": 3
   },
   "file_extension": ".py",
   "mimetype": "text/x-python",
   "name": "python",
   "nbconvert_exporter": "python",
   "pygments_lexer": "ipython3",
   "version": "3.8.20"
  }
 },
 "nbformat": 4,
 "nbformat_minor": 5
}
