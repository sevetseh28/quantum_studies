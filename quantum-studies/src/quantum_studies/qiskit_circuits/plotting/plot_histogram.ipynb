{
 "cells": [
  {
   "cell_type": "code",
   "execution_count": null,
   "id": "7c40d338",
   "metadata": {},
   "outputs": [],
   "source": [
    "from qiskit import QuantumCircuit, Aer, execute\n",
    "from qiskit.visualization import plot_histogram\n",
    "\n",
    "# Create a quantum circuit with 1 qubit and 1 classical bit\n",
    "qc = QuantumCircuit(1, 1)\n",
    "\n",
    "# Apply Hadamard gate to put the qubit in superposition\n",
    "qc.h(0)\n",
    "\n",
    "# Measure the qubit into the classical bit\n",
    "qc.measure(0, 0)\n",
    "\n",
    "# Use Aer's QasmSimulator\n",
    "simulator = Aer.get_backend('qasm_simulator')\n",
    "\n",
    "# Execute the circuit on the simulator\n",
    "job = execute(qc, simulator, shots=1024)\n",
    "\n",
    "# Get the result\n",
    "result = job.result()\n",
    "\n",
    "# Get the counts (number of times each result occurred)\n",
    "counts = result.get_counts(qc)\n",
    "\n",
    "# Print the result\n",
    "print(\"Counts:\", counts)\n",
    "\n",
    "# Plot the histogram\n",
    "plot_histogram(counts)"
   ]
  }
 ],
 "metadata": {
  "language_info": {
   "name": "python"
  }
 },
 "nbformat": 4,
 "nbformat_minor": 5
}
