{
 "cells": [
  {
   "cell_type": "code",
   "execution_count": null,
   "id": "55a5ea4b",
   "metadata": {},
   "outputs": [],
   "source": [
    "from qiskit.visualization import plot_error_map"
   ]
  }
 ],
 "metadata": {
  "language_info": {
   "name": "python"
  }
 },
 "nbformat": 4,
 "nbformat_minor": 5
}
