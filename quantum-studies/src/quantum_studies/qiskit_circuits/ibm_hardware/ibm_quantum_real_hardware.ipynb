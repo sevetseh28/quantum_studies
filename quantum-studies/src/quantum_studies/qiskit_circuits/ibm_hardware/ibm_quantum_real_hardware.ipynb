{
 "cells": [
  {
   "cell_type": "code",
   "execution_count": null,
   "id": "beddf8b1",
   "metadata": {},
   "outputs": [
    {
     "ename": "ImportError",
     "evalue": "cannot import name 'execute' from 'qiskit' (/home/vscode/.cache/pypoetry/virtualenvs/quantum-studies-bgrKsKb0-py3.12/lib/python3.12/site-packages/qiskit/__init__.py)",
     "output_type": "error",
     "traceback": [
      "\u001b[31m---------------------------------------------------------------------------\u001b[39m",
      "\u001b[31mImportError\u001b[39m                               Traceback (most recent call last)",
      "\u001b[36mCell\u001b[39m\u001b[36m \u001b[39m\u001b[32mIn[1]\u001b[39m\u001b[32m, line 1\u001b[39m\n\u001b[32m----> \u001b[39m\u001b[32m1\u001b[39m \u001b[38;5;28;01mfrom\u001b[39;00m\u001b[38;5;250m \u001b[39m\u001b[34;01mqiskit\u001b[39;00m\u001b[38;5;250m \u001b[39m\u001b[38;5;28;01mimport\u001b[39;00m QuantumCircuit, execute\n\u001b[32m      2\u001b[39m \u001b[38;5;66;03m# from qiskit.providers.ibmq import IBMQ\u001b[39;00m\n\u001b[32m      3\u001b[39m \u001b[38;5;28;01mfrom\u001b[39;00m\u001b[38;5;250m \u001b[39m\u001b[34;01mqiskit\u001b[39;00m\u001b[38;5;250m \u001b[39m\u001b[38;5;28;01mimport\u001b[39;00m IBMQ\n",
      "\u001b[31mImportError\u001b[39m: cannot import name 'execute' from 'qiskit' (/home/vscode/.cache/pypoetry/virtualenvs/quantum-studies-bgrKsKb0-py3.12/lib/python3.12/site-packages/qiskit/__init__.py)"
     ]
    }
   ],
   "source": [
    "from qiskit.circuit import QuantumCircuit\n",
    "from qiskit.primitives import StatevectorSampler\n",
    "from qiskit import IBMQ\n",
    "from qiskit_aer\n",
    " \n",
    "# provider = IBMQ.load_account()\n",
    "qc = QuantumCircuit(2)\n",
    "qc.h(0)\n",
    "qc.cx(0, 1)\n",
    "\n",
    "qc.measure_all()\n",
    "\n",
    "ibm_quantum_api_key = \"fill-in-here\"\n",
    "# IBMQ.enable_account(\"your_ibm_token_here\")\n",
    "accountProvider = IBMQ.get_provider(hub='ibm-q')\n",
    "backends = accountProvider.backends()\n",
    "print(\"Available backends:\")\n",
    "for backend in backends:\n",
    "    print(backend.name())\n",
    "    \n",
    "backend = accountProvider.get_backend('ibm_brisbane')\n",
    "\n",
    "job = execute(qc, backend=backend, shots=1)\n",
    "\n",
    "# Wait for the job to complete\n",
    "job_monitor(job)\n",
    "\n",
    "\n",
    "job_result = job.result()\n",
    "print(\"Job result:\", job_result.get_counts(qc))"
   ]
  }
 ],
 "metadata": {
  "kernelspec": {
   "display_name": "quantum-studies-py3.12",
   "language": "python",
   "name": "python3"
  },
  "language_info": {
   "codemirror_mode": {
    "name": "ipython",
    "version": 3
   },
   "file_extension": ".py",
   "mimetype": "text/x-python",
   "name": "python",
   "nbconvert_exporter": "python",
   "pygments_lexer": "ipython3",
   "version": "3.12.10"
  }
 },
 "nbformat": 4,
 "nbformat_minor": 5
}
