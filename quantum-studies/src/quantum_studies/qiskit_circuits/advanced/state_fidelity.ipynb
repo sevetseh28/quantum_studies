{
 "cells": [
  {
   "cell_type": "markdown",
   "id": "c22fefd1",
   "metadata": {},
   "source": [
    "State fidelity in quantum computing is a quantitative measure of how close two quantum states are to each other. It is widely used to assess the accuracy of quantum computations, the performance of quantum gates, and the reliability of quantum error correction schemes.\n",
    "Mathematically, for two quantum states represented by density matrices  and , the state fidelity  is defined as:\n",
    "$F(\\rho, \\sigma) = \\left( \\operatorname{tr} \\sqrt{ \\sqrt{\\rho} \\sigma \\sqrt{\\rho} } \\right)^2$\n",
    "\n",
    "For pure states  and , this simplifies to:\n",
    "\n",
    "The value of fidelity ranges from 0 (completely different states) to 1 (identical states). High state fidelity indicates that the actual quantum state is very close to the target or ideal state, while low fidelity means significant deviation, often due to noise, decoherence, or imperfect operations.\n",
    "In practice, state fidelity is crucial for:\n",
    "\t•\tEvaluating how well a quantum algorithm or gate has performed.\n",
    "\t•\tQuantifying the impact of noise and errors.\n",
    "\t•\tGuiding improvements in quantum hardware and error correction.\n",
    "In summary, state fidelity is a fundamental metric that quantifies the similarity between two quantum states, providing a direct measure of quantum system accuracy and reliability"
   ]
  },
  {
   "cell_type": "code",
   "execution_count": 1,
   "id": "8682fc55",
   "metadata": {},
   "outputs": [
    {
     "name": "stderr",
     "output_type": "stream",
     "text": [
      "/home/vscode/.cache/pypoetry/virtualenvs/quantum-studies-WnsHUv4K-py3.8/lib/python3.8/site-packages/qiskit/circuit/equivalence.py:18: DeprecationWarning: The retworkx package is deprecated and has been renamed to rustworkx. Rustworkx is a drop-in replacement and can be used by replacing `import retworkx` with import `rustworkx`. \n",
      "  import retworkx as rx\n",
      "/home/vscode/.cache/pypoetry/virtualenvs/quantum-studies-WnsHUv4K-py3.8/lib/python3.8/site-packages/qiskit/version.py:20: DeprecationWarning: pkg_resources is deprecated as an API. See https://setuptools.pypa.io/en/latest/pkg_resources.html\n",
      "  import pkg_resources\n"
     ]
    },
    {
     "name": "stdout",
     "output_type": "stream",
     "text": [
      "0.8535533905932733\n"
     ]
    }
   ],
   "source": [
    "# In the following code snippet, the state fidelity of a one-qubit statevector in equal superposition has an 85% \n",
    "# state fidelity with a statevector whose phase is subsequently rotated by π/8 radians:\n",
    "\n",
    "from qiskit.quantum_info import Statevector, Operator, state_fidelity\n",
    "\n",
    "sv_a = Statevector.from_label('+')\n",
    "\n",
    "sv_b = sv_a.evolve(Operator.from_label('T'))\n",
    "\n",
    "print(state_fidelity(sv_a, sv_b))"
   ]
  }
 ],
 "metadata": {
  "kernelspec": {
   "display_name": "quantum-studies-WnsHUv4K-py3.8",
   "language": "python",
   "name": "python3"
  },
  "language_info": {
   "codemirror_mode": {
    "name": "ipython",
    "version": 3
   },
   "file_extension": ".py",
   "mimetype": "text/x-python",
   "name": "python",
   "nbconvert_exporter": "python",
   "pygments_lexer": "ipython3",
   "version": "3.8.20"
  }
 },
 "nbformat": 4,
 "nbformat_minor": 5
}
