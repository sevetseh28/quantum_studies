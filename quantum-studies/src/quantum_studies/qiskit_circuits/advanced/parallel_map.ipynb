{
 "cells": [
  {
   "cell_type": "code",
   "execution_count": null,
   "id": "84fecac3",
   "metadata": {},
   "outputs": [
    {
     "name": "stdout",
     "output_type": "stream",
     "text": [
      "Parallel map result: [0, 1, 4, 9, 16, 25, 36, 49, 64, 81]\n"
     ]
    }
   ],
   "source": [
    "from qiskit.tools import parallel_map, job_monitor, backend_monitor\n",
    "from qiskit.tools import job_monitor\n",
    "\n",
    "\n",
    "def example_function(x: int) -> int:\n",
    "    \"\"\"Example function to be executed in parallel.\"\"\"\n",
    "    return x**2\n",
    "\n",
    "result = parallel_map( # Uses Python multiprocessing behind the scenes  - Uses the number of CPUs as \n",
    "    task=example_function,\n",
    "    values=range(10),\n",
    "    # num_processes=4,  # Specify the number of processes to use by default it uses all available CPUs\n",
    ")\n",
    "\n",
    "print(\"Parallel map result:\", result)"
   ]
  }
 ],
 "metadata": {
  "kernelspec": {
   "display_name": "quantum-studies-WnsHUv4K-py3.8",
   "language": "python",
   "name": "python3"
  },
  "language_info": {
   "codemirror_mode": {
    "name": "ipython",
    "version": 3
   },
   "file_extension": ".py",
   "mimetype": "text/x-python",
   "name": "python",
   "nbconvert_exporter": "python",
   "pygments_lexer": "ipython3",
   "version": "3.8.20"
  }
 },
 "nbformat": 4,
 "nbformat_minor": 5
}
