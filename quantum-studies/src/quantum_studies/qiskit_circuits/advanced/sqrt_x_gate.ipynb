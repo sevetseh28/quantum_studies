{
 "cells": [
  {
   "cell_type": "code",
   "execution_count": null,
   "id": "b4672ac8",
   "metadata": {},
   "outputs": [],
   "source": [
    "from qiskit import QuantumCircuit\n",
    "\n",
    "qc = QuantumCircuit(1)\n",
    "\n",
    "\n",
    "qc.sx(0)\n",
    "\n",
    "qc.draw(\"mpl\")"
   ]
  }
 ],
 "metadata": {
  "language_info": {
   "name": "python"
  }
 },
 "nbformat": 4,
 "nbformat_minor": 5
}
