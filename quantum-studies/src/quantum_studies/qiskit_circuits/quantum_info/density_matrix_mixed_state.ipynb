{
 "cells": [
  {
   "cell_type": "markdown",
   "id": "ddca4fb2",
   "metadata": {},
   "source": [
    "## Simulating a Mixed State\n",
    "A mixed state is not the same as a superposition. It’s a classical probability distribution over quantum states.\n",
    "\n",
    "In this case we have that:\n",
    "- With 25% chance, the system is in \n",
    "$`|w_1\\rangle = \\frac{1}{\\sqrt{2}}(|0\\rangle + |1\\rangle)`$\n",
    "\n",
    "- With 75% chance, it’s in\n",
    "$`|w_2\\rangle = \\frac{1}{\\sqrt{2}}(|0\\rangle - |1\\rangle)`$\n",
    "\n",
    "We are not preparing:\n",
    "$`|\\psi\\rangle = \\sqrt{\\frac{1}{4}}|w_1\\rangle + \\sqrt{\\frac{3}{4}}|w_2\\rangle`$\n",
    "\n",
    "That would be a pure superposition, which is totally different.\n",
    "Any quantum state — pure or mixed — can be described using a density matrix.\n",
    "- For a pure state: $`\\rho = |\\psi\\rangle\\langle\\psi|`$\n",
    "- For a mixed state: $`\\rho = \\sum_i p_i |\\psi_i\\rangle\\langle\\psi_i|`$"
   ]
  },
  {
   "cell_type": "code",
   "execution_count": 7,
   "id": "3dcec7a0",
   "metadata": {},
   "outputs": [
    {
     "name": "stdout",
     "output_type": "stream",
     "text": [
      "Density Matrix:\n",
      "[[ 0.5 +0.j -0.25+0.j]\n",
      " [-0.25+0.j  0.5 +0.j]]\n"
     ]
    },
    {
     "data": {
      "text/latex": [
       "$$\n",
       "\n",
       "\\begin{bmatrix}\n",
       "\\tfrac{1}{2} & -\\tfrac{1}{4}  \\\\\n",
       " -\\tfrac{1}{4} & \\tfrac{1}{2}  \\\\\n",
       " \\end{bmatrix}\n",
       "$$"
      ],
      "text/plain": [
       "<IPython.core.display.Latex object>"
      ]
     },
     "execution_count": 7,
     "metadata": {},
     "output_type": "execute_result"
    }
   ],
   "source": [
    "from qiskit import QuantumCircuit, Aer, execute\n",
    "from qiskit.quantum_info import DensityMatrix\n",
    "\n",
    "# Define the pure states |w1> and |w2>\n",
    "\n",
    "def w1_circuit():\n",
    "    qc = QuantumCircuit(1)\n",
    "    qc.h(0)  # |w1> = H|0> = (|0> + |1>)/sqrt(2)\n",
    "    return qc\n",
    "\n",
    "def w2_circuit():\n",
    "    qc = QuantumCircuit(1)\n",
    "    qc.x(0) # So that it becomes |1>\n",
    "    qc.h(0)  # X then H gives (|0> - |1>)/sqrt(2)\n",
    "    return qc\n",
    "\n",
    "\n",
    "psi_w1 = DensityMatrix(w1_circuit())\n",
    "psi_w2 = DensityMatrix(w2_circuit())\n",
    "\n",
    "# Create the mixed state: 1/4 * |w1><w1| + 3/4 * |w2><w2|\n",
    "rho = 0.25 * psi_w1 + 0.75 * psi_w2\n",
    "\n",
    "# Display the density matrix\n",
    "print(\"Density Matrix:\")\n",
    "print(rho.data)\n",
    "\n",
    "rho.draw('latex') "
   ]
  }
 ],
 "metadata": {
  "kernelspec": {
   "display_name": "quantum-studies-bgrKsKb0-py3.8",
   "language": "python",
   "name": "python3"
  },
  "language_info": {
   "codemirror_mode": {
    "name": "ipython",
    "version": 3
   },
   "file_extension": ".py",
   "mimetype": "text/x-python",
   "name": "python",
   "nbconvert_exporter": "python",
   "pygments_lexer": "ipython3",
   "version": "3.8.20"
  }
 },
 "nbformat": 4,
 "nbformat_minor": 5
}
