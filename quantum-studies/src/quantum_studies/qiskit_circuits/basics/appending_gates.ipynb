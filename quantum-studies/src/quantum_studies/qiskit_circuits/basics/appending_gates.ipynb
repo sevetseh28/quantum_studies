{
 "cells": [
  {
   "cell_type": "code",
   "execution_count": null,
   "id": "360d814f",
   "metadata": {},
   "outputs": [
    {
     "data": {
      "image/png": "[encoded data removed]",
      "text/plain": [
       "<Figure size 287.294x284.278 with 1 Axes>"
      ]
     },
     "execution_count": 4,
     "metadata": {},
     "output_type": "execute_result"
    }
   ],
   "source": [
    "from qiskit import QuantumCircuit\n",
    "from qiskit.circuit.library import HGate, Measure\n",
    "\n",
    "qc = QuantumCircuit(2, 2)\n",
    "\n",
    "qc.h(0)  # Apply Hadamard gate to qubit 0\n",
    "qc.append(HGate(), [0])\n",
    "qc.append(Measure(), [0], [0])  # Measure qubit 0 to classical bit 0\n",
    "\n",
    "qc.draw(output='mpl', filename='hadamard_circuit.png')"
   ]
  }
 ],
 "metadata": {
  "kernelspec": {
   "display_name": "quantum-studies-WnsHUv4K-py3.8",
   "language": "python",
   "name": "python3"
  },
  "language_info": {
   "codemirror_mode": {
    "name": "ipython",
    "version": 3
   },
   "file_extension": ".py",
   "mimetype": "text/x-python",
   "name": "python",
   "nbconvert_exporter": "python",
   "pygments_lexer": "ipython3",
   "version": "3.8.20"
  }
 },
 "nbformat": 4,
 "nbformat_minor": 5
}
