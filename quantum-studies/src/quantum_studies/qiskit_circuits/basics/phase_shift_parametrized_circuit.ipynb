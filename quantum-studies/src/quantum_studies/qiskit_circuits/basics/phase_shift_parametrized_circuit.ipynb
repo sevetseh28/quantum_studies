{
 "cells": [
  {
   "cell_type": "code",
   "execution_count": null,
   "id": "56a320f0",
   "metadata": {},
   "outputs": [
    {
     "ename": "AttributeError",
     "evalue": "'QuantumCircuit' object has no attribute 'bind_parameters'",
     "output_type": "error",
     "traceback": [
      "\u001b[31m---------------------------------------------------------------------------\u001b[39m",
      "\u001b[31mAttributeError\u001b[39m                            Traceback (most recent call last)",
      "\u001b[36mCell\u001b[39m\u001b[36m \u001b[39m\u001b[32mIn[2]\u001b[39m\u001b[32m, line 14\u001b[39m\n\u001b[32m     12\u001b[39m \u001b[38;5;66;03m# Note: The circuit is parametrized with three phase shifts, one for each qubit.\u001b[39;00m\n\u001b[32m     13\u001b[39m qc.draw(\u001b[33m\"\u001b[39m\u001b[33mmpl\u001b[39m\u001b[33m\"\u001b[39m)  \u001b[38;5;66;03m# Visualize the bound circuit with specific parameter values\u001b[39;00m\n\u001b[32m---> \u001b[39m\u001b[32m14\u001b[39m b_qc = \u001b[43mqc\u001b[49m\u001b[43m.\u001b[49m\u001b[43mbind_parameters\u001b[49m({theta_vector: [math.pi / \u001b[32m8\u001b[39m, math.pi / \u001b[32m4\u001b[39m, math.pi /\u001b[32m2\u001b[39m]})\n\u001b[32m     16\u001b[39m b_qc.draw(\u001b[33m\"\u001b[39m\u001b[33mmpl\u001b[39m\u001b[33m\"\u001b[39m)  \u001b[38;5;66;03m# Visualize the bound circuit with specific parameter values\u001b[39;00m\n",
      "\u001b[31mAttributeError\u001b[39m: 'QuantumCircuit' object has no attribute 'bind_parameters'"
     ]
    }
   ],
   "source": [
    "\n",
    "from qiskit.circuit import QuantumCircuit, ParameterVector, Parameter\n",
    "import math\n",
    "theta_vector = ParameterVector(\"θ\", 3)  # Create a vector of parameters\n",
    "\n",
    "qc = QuantumCircuit(3)\n",
    "\n",
    "qc.h([0, 1, 2])  # Apply Hadamard gate to all qubits\n",
    "qc.p(theta_vector[0], 0)  # Apply phase shift to qubit 0\n",
    "qc.p(theta_vector[1], 1)  # Apply phase shift to qubit 1\n",
    "qc.p(theta_vector[2], 2)  # Apply phase shift to qubit 2\n",
    "\n",
    "# Note: The circuit is parametrized with three phase shifts, one for each qubit.\n",
    "qc.draw(\"mpl\")  # Visualize the bound circuit with specific parameter values\n",
    "b_qc = qc.assign_parameters({theta_vector: [math.pi / 8, math.pi / 4, math.pi /2]})\n",
    "\n",
    "b_qc.draw(\"mpl\")  # Visualize the bound circuit with specific parameter values"
   ]
  }
 ],
 "metadata": {
  "kernelspec": {
   "display_name": "quantum-studies-py3.12 (3.12.10)",
   "language": "python",
   "name": "python3"
  },
  "language_info": {
   "codemirror_mode": {
    "name": "ipython",
    "version": 3
   },
   "file_extension": ".py",
   "mimetype": "text/x-python",
   "name": "python",
   "nbconvert_exporter": "python",
   "pygments_lexer": "ipython3",
   "version": "3.12.10"
  }
 },
 "nbformat": 4,
 "nbformat_minor": 5
}
