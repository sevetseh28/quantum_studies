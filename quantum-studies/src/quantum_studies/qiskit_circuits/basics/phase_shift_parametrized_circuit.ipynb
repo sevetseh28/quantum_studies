{
 "cells": [
  {
   "cell_type": "code",
   "execution_count": null,
   "id": "56a320f0",
   "metadata": {},
   "outputs": [
    {
     "data": {
      "image/png": "[encoded data removed]",
      "text/plain": [
       "<Figure size 287.496x284.278 with 1 Axes>"
      ]
     },
     "execution_count": 15,
     "metadata": {},
     "output_type": "execute_result"
    }
   ],
   "source": [
    "\n",
    "from qiskit.circuit import QuantumCircuit, ParameterVector, Parameter\n",
    "import math\n",
    "theta_vector = ParameterVector(\"θ\", 3)  # Create a vector of parameters\n",
    "\n",
    "qc = QuantumCircuit(3)\n",
    "\n",
    "qc.h([0, 1, 2])  # Apply Hadamard gate to all qubits\n",
    "qc.p(theta_vector[0], 0)  # Apply phase shift to qubit 0\n",
    "qc.p(theta_vector[1], 1)  # Apply phase shift to qubit 1\n",
    "qc.p(theta_vector[2], 2)  # Apply phase shift to qubit 2\n",
    "\n",
    "# Note: The circuit is parametrized with three phase shifts, one for each qubit.\n",
    "# qc.draw(\"mpl\")  # Visualize the bound circuit with specific parameter values\n",
    "b_qc = qc.bind_parameters({theta_vector: [math.pi / 8, math.pi / 4, math.pi /2]})\n",
    "\n",
    "b_qc.draw(\"mpl\")  # Visualize the bound circuit with specific parameter values"
   ]
  }
 ],
 "metadata": {
  "kernelspec": {
   "display_name": "quantum-studies-WnsHUv4K-py3.8",
   "language": "python",
   "name": "python3"
  },
  "language_info": {
   "codemirror_mode": {
    "name": "ipython",
    "version": 3
   },
   "file_extension": ".py",
   "mimetype": "text/x-python",
   "name": "python",
   "nbconvert_exporter": "python",
   "pygments_lexer": "ipython3",
   "version": "3.8.20"
  }
 },
 "nbformat": 4,
 "nbformat_minor": 5
}
