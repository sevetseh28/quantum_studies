{
 "cells": [
  {
   "cell_type": "code",
   "execution_count": null,
   "id": "e6c963b3",
   "metadata": {},
   "outputs": [
    {
     "name": "stdout",
     "output_type": "stream",
     "text": [
      "Statevector([0.+0.j, 1.+0.j],\n",
      "            dims=(2,))\n"
     ]
    },
    {
     "ename": "NameError",
     "evalue": "name 'plot_bloch_multivector' is not defined",
     "output_type": "error",
     "traceback": [
      "\u001b[0;31m---------------------------------------------------------------------------\u001b[0m",
      "\u001b[0;31mNameError\u001b[0m                                 Traceback (most recent call last)",
      "Cell \u001b[0;32mIn[21], line 16\u001b[0m\n\u001b[1;32m     13\u001b[0m statevector \u001b[38;5;241m=\u001b[39m Statevector(state_vector_list)\n\u001b[1;32m     14\u001b[0m \u001b[38;5;28mprint\u001b[39m(statevector)\n\u001b[0;32m---> 16\u001b[0m \u001b[43mplot_bloch_multivector\u001b[49m(statevector)\n",
      "\u001b[0;31mNameError\u001b[0m: name 'plot_bloch_multivector' is not defined"
     ]
    }
   ],
   "source": [
    "from qiskit import QuantumCircuit\n",
    "from qiskit.providers.basicaer import BasicAer\n",
    "from qiskit.quantum_info import Statevector\n",
    "from qiskit.visualization import plot_bloch_vector, plot_state_qsphere, plot_bloch_multivector\n",
    "qc = QuantumCircuit(1)\n",
    "\n",
    "\n",
    "qc.x(0)\n",
    "backend = BasicAer.get_backend('statevector_simulator')\n",
    "result = backend.run(qc).result()\n",
    "state_vector_list: list = result.get_statevector(qc, 2)\n",
    "\n",
    "statevector = Statevector(state_vector_list)\n",
    "print(statevector)\n",
    "\n",
    "plot_bloch_multivector(statevector)"
   ]
  }
 ],
 "metadata": {
  "kernelspec": {
   "display_name": "quantum-studies-WnsHUv4K-py3.8",
   "language": "python",
   "name": "python3"
  },
  "language_info": {
   "codemirror_mode": {
    "name": "ipython",
    "version": 3
   },
   "file_extension": ".py",
   "mimetype": "text/x-python",
   "name": "python",
   "nbconvert_exporter": "python",
   "pygments_lexer": "ipython3",
   "version": "3.8.20"
  }
 },
 "nbformat": 4,
 "nbformat_minor": 5
}
