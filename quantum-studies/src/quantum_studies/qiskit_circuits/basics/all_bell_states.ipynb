{
 "cells": [
  {
   "cell_type": "code",
   "execution_count": 2,
   "id": "f24bbcfb",
   "metadata": {},
   "outputs": [
    {
     "name": "stdout",
     "output_type": "stream",
     "text": [
      "     ┌───┐     \n",
      "q_0: ┤ H ├──■──\n",
      "     └───┘┌─┴─┐\n",
      "q_1: ─────┤ X ├\n",
      "          └───┘\n"
     ]
    },
    {
     "data": {
      "image/png": "[encoded data removed]",
      "text/plain": [
       "<Figure size 287.294x200.667 with 1 Axes>"
      ]
     },
     "execution_count": 2,
     "metadata": {},
     "output_type": "execute_result"
    }
   ],
   "source": [
    "# Let's start with creating a circuit for 00 and 11 bell state\n",
    "\n",
    "\n",
    "from qiskit import QuantumCircuit, Aer, transpile, assemble, execute\n",
    "\n",
    "def create_bell_state():\n",
    "    # Create a quantum circuit with 2 qubits\n",
    "    qc = QuantumCircuit(2)\n",
    "\n",
    "    # Apply Hadamard gate to the first qubit\n",
    "    qc.h(0)\n",
    "\n",
    "    # Apply CNOT gate with control on the first qubit and target on the second qubit\n",
    "    qc.cx(0, 1)\n",
    "\n",
    "    # Draw the circuit\n",
    "    print(qc.draw())\n",
    "\n",
    "    return qc\n",
    "\n",
    "create_bell_state().draw(\"mpl\")\n"
   ]
  },
  {
   "cell_type": "markdown",
   "id": "db502916",
   "metadata": {},
   "source": []
  }
 ],
 "metadata": {
  "kernelspec": {
   "display_name": "quantum-studies-WnsHUv4K-py3.8",
   "language": "python",
   "name": "python3"
  },
  "language_info": {
   "codemirror_mode": {
    "name": "ipython",
    "version": 3
   },
   "file_extension": ".py",
   "mimetype": "text/x-python",
   "name": "python",
   "nbconvert_exporter": "python",
   "pygments_lexer": "ipython3",
   "version": "3.8.20"
  }
 },
 "nbformat": 4,
 "nbformat_minor": 5
}
