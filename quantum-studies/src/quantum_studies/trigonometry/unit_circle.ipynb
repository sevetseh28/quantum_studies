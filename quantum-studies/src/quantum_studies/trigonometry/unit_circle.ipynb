{
 "cells": [
  {
   "cell_type": "code",
   "execution_count": 6,
   "metadata": {},
   "outputs": [
    {
     "data": {
      "application/vnd.jupyter.widget-view+json": {
       "model_id": "dbdcd04df4b04fc58f933f619ff335cd",
       "version_major": 2,
       "version_minor": 0
      },
      "text/plain": [
       "IntSlider(value=30, description='Angle (°)', max=360)"
      ]
     },
     "metadata": {},
     "output_type": "display_data"
    },
    {
     "data": {
      "application/vnd.jupyter.widget-view+json": {
       "model_id": "066b0e8dfc6d4147815a375a1028cc39",
       "version_major": 2,
       "version_minor": 0
      },
      "text/plain": [
       "Output()"
      ]
     },
     "metadata": {},
     "output_type": "display_data"
    }
   ],
   "source": [
    "import numpy as np\n",
    "import matplotlib.pyplot as plt\n",
    "import ipywidgets as widgets\n",
    "from fractions import Fraction\n",
    "from IPython.display import display, clear_output\n",
    "\n",
    "# Create output container for live updates\n",
    "output = widgets.Output()\n",
    "\n",
    "def plot_trig_functions(theta_deg):\n",
    "    theta = np.radians(theta_deg)  # Convert degrees to radians\n",
    "    cos_theta = np.cos(theta)\n",
    "    sin_theta = np.sin(theta)\n",
    "    tan_theta = np.tan(theta) if np.cos(theta) != 0 else None\n",
    "\n",
    "    # Convert values to fractions for better readability\n",
    "    sin_frac = Fraction(sin_theta).limit_denominator(10)\n",
    "    cos_frac = Fraction(cos_theta).limit_denominator(10)\n",
    "    tan_frac = Fraction(tan_theta).limit_denominator(10) if tan_theta is not None else None\n",
    "\n",
    "    with output:\n",
    "        clear_output(wait=True)  # Clear previous plot to prevent flickering\n",
    "\n",
    "        # Create figure\n",
    "        fig, ax = plt.subplots(figsize=(6,6))\n",
    "        ax.set_xlim(-1.2, 1.2)\n",
    "        ax.set_ylim(-1.2, 1.2)\n",
    "        ax.set_aspect('equal')\n",
    "        ax.grid(True, linestyle='--', linewidth=0.5)\n",
    "\n",
    "        # Draw the unit circle\n",
    "        circle = plt.Circle((0, 0), 1, color='lightgray', fill=False)\n",
    "        ax.add_patch(circle)\n",
    "\n",
    "        # Draw axes\n",
    "        ax.axhline(0, color='black', linewidth=1)\n",
    "        ax.axvline(0, color='black', linewidth=1)\n",
    "\n",
    "        # Draw radius\n",
    "        ax.plot([0, cos_theta], [0, sin_theta], 'b', linewidth=2, label='Radius')\n",
    "\n",
    "        # Draw sine (vertical line from point to x-axis)\n",
    "        ax.plot([cos_theta, cos_theta], [0, sin_theta], 'r--', label=f\"sin({theta_deg}°) = {sin_frac} ≈ {sin_theta:.2f}\")\n",
    "\n",
    "        # Draw cosine (horizontal line from origin to point on circle)\n",
    "        ax.plot([0, cos_theta], [0, 0], 'g--', label=f\"cos({theta_deg}°) = {cos_frac} ≈ {cos_theta:.2f}\")\n",
    "\n",
    "        # Draw tangent line (if defined)\n",
    "        if tan_theta is not None:\n",
    "            ax.plot([cos_theta, cos_theta + tan_theta], [sin_theta, 0], 'm--', label=f\"tan({theta_deg}°) = {tan_frac} ≈ {tan_theta:.2f}\")\n",
    "\n",
    "        # Draw the angle arc\n",
    "        arc_theta = np.linspace(0, theta, 30)\n",
    "        ax.plot(np.cos(arc_theta), np.sin(arc_theta), 'k', linewidth=1.5)\n",
    "\n",
    "        # Mark the point on the unit circle\n",
    "        ax.scatter([cos_theta], [sin_theta], color='blue', s=100)\n",
    "\n",
    "        # Labels\n",
    "        ax.set_title(f\"Trigonometric Functions for θ = {theta_deg}°\")\n",
    "        ax.legend()\n",
    "        plt.show()\n",
    "\n",
    "# Create interactive slider\n",
    "theta_slider = widgets.IntSlider(min=0, max=360, step=1, value=30, description=\"Angle (°)\")\n",
    "widgets.interactive(plot_trig_functions, theta_deg=theta_slider)\n",
    "\n",
    "# Display slider and output\n",
    "display(theta_slider, output)\n",
    "\n",
    "# Initial plot\n",
    "plot_trig_functions(30)"
   ]
  }
 ],
 "metadata": {
  "kernelspec": {
   "display_name": "Python 3",
   "language": "python",
   "name": "python3"
  },
  "language_info": {
   "codemirror_mode": {
    "name": "ipython",
    "version": 3
   },
   "file_extension": ".py",
   "mimetype": "text/x-python",
   "name": "python",
   "nbconvert_exporter": "python",
   "pygments_lexer": "ipython3",
   "version": "3.12.3"
  }
 },
 "nbformat": 4,
 "nbformat_minor": 2
}
